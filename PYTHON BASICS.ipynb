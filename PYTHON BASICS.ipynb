{
 "cells": [
  {
   "cell_type": "code",
   "execution_count": 1,
   "id": "1f068737",
   "metadata": {},
   "outputs": [],
   "source": [
    "n=True"
   ]
  },
  {
   "cell_type": "code",
   "execution_count": 2,
   "id": "9e08e673",
   "metadata": {},
   "outputs": [
    {
     "data": {
      "text/plain": [
       "bool"
      ]
     },
     "execution_count": 2,
     "metadata": {},
     "output_type": "execute_result"
    }
   ],
   "source": [
    "type(n)"
   ]
  },
  {
   "cell_type": "code",
   "execution_count": 3,
   "id": "da4925df",
   "metadata": {},
   "outputs": [
    {
     "data": {
      "text/plain": [
       "bool"
      ]
     },
     "execution_count": 3,
     "metadata": {},
     "output_type": "execute_result"
    }
   ],
   "source": [
    "m=False\n",
    "type(m)"
   ]
  },
  {
   "cell_type": "code",
   "execution_count": 4,
   "id": "ae286f39",
   "metadata": {},
   "outputs": [],
   "source": [
    "x=n+m "
   ]
  },
  {
   "cell_type": "code",
   "execution_count": 5,
   "id": "fb1c4325",
   "metadata": {},
   "outputs": [
    {
     "data": {
      "text/plain": [
       "1"
      ]
     },
     "execution_count": 5,
     "metadata": {},
     "output_type": "execute_result"
    }
   ],
   "source": [
    "x"
   ]
  },
  {
   "cell_type": "code",
   "execution_count": 6,
   "id": "57631fcd",
   "metadata": {},
   "outputs": [
    {
     "data": {
      "text/plain": [
       "complex"
      ]
     },
     "execution_count": 6,
     "metadata": {},
     "output_type": "execute_result"
    }
   ],
   "source": [
    "si=5+8j\n",
    "type(si)"
   ]
  },
  {
   "cell_type": "code",
   "execution_count": 8,
   "id": "21a1761f",
   "metadata": {},
   "outputs": [
    {
     "data": {
      "text/plain": [
       "5.0"
      ]
     },
     "execution_count": 8,
     "metadata": {},
     "output_type": "execute_result"
    }
   ],
   "source": [
    "si.real"
   ]
  },
  {
   "cell_type": "code",
   "execution_count": 10,
   "id": "34fdcfff",
   "metadata": {},
   "outputs": [
    {
     "data": {
      "text/plain": [
       "8.0"
      ]
     },
     "execution_count": 10,
     "metadata": {},
     "output_type": "execute_result"
    }
   ],
   "source": [
    "si.imag"
   ]
  },
  {
   "cell_type": "code",
   "execution_count": 11,
   "id": "4ce03507",
   "metadata": {},
   "outputs": [
    {
     "data": {
      "text/plain": [
       "complex"
      ]
     },
     "execution_count": 11,
     "metadata": {},
     "output_type": "execute_result"
    }
   ],
   "source": [
    "type(si)"
   ]
  },
  {
   "cell_type": "code",
   "execution_count": 12,
   "id": "1b11690a",
   "metadata": {},
   "outputs": [
    {
     "data": {
      "text/plain": [
       "'pwskillls'"
      ]
     },
     "execution_count": 12,
     "metadata": {},
     "output_type": "execute_result"
    }
   ],
   "source": [
    "s=\"pwskillls\" \n",
    "s"
   ]
  },
  {
   "cell_type": "code",
   "execution_count": 13,
   "id": "4cd989d6",
   "metadata": {},
   "outputs": [
    {
     "data": {
      "text/plain": [
       "str"
      ]
     },
     "execution_count": 13,
     "metadata": {},
     "output_type": "execute_result"
    }
   ],
   "source": [
    "type(s)\n"
   ]
  },
  {
   "cell_type": "code",
   "execution_count": 14,
   "id": "5f42ced4",
   "metadata": {},
   "outputs": [
    {
     "data": {
      "text/plain": [
       "'p'"
      ]
     },
     "execution_count": 14,
     "metadata": {},
     "output_type": "execute_result"
    }
   ],
   "source": [
    "s[0]"
   ]
  },
  {
   "cell_type": "code",
   "execution_count": 18,
   "id": "86986a6d",
   "metadata": {},
   "outputs": [
    {
     "data": {
      "text/plain": [
       "'s'"
      ]
     },
     "execution_count": 18,
     "metadata": {},
     "output_type": "execute_result"
    }
   ],
   "source": [
    "s[-1]"
   ]
  },
  {
   "cell_type": "code",
   "execution_count": 19,
   "id": "b508e682",
   "metadata": {},
   "outputs": [
    {
     "data": {
      "text/plain": [
       "'pwskilll'"
      ]
     },
     "execution_count": 19,
     "metadata": {},
     "output_type": "execute_result"
    }
   ],
   "source": [
    "s[0:8]"
   ]
  },
  {
   "cell_type": "code",
   "execution_count": 21,
   "id": "0a27b134",
   "metadata": {},
   "outputs": [
    {
     "data": {
      "text/plain": [
       "'pwskillls'"
      ]
     },
     "execution_count": 21,
     "metadata": {},
     "output_type": "execute_result"
    }
   ],
   "source": [
    "s[0:9]"
   ]
  },
  {
   "cell_type": "code",
   "execution_count": 22,
   "id": "6870ce5c",
   "metadata": {},
   "outputs": [
    {
     "data": {
      "text/plain": [
       "'psils'"
      ]
     },
     "execution_count": 22,
     "metadata": {},
     "output_type": "execute_result"
    }
   ],
   "source": [
    "s[0:9:2]"
   ]
  },
  {
   "cell_type": "code",
   "execution_count": 23,
   "id": "2fe72c49",
   "metadata": {},
   "outputs": [
    {
     "data": {
      "text/plain": [
       "'psils'"
      ]
     },
     "execution_count": 23,
     "metadata": {},
     "output_type": "execute_result"
    }
   ],
   "source": [
    "s[0::2]"
   ]
  },
  {
   "cell_type": "code",
   "execution_count": 25,
   "id": "ee17f2d6",
   "metadata": {},
   "outputs": [
    {
     "data": {
      "text/plain": [
       "''"
      ]
     },
     "execution_count": 25,
     "metadata": {},
     "output_type": "execute_result"
    }
   ],
   "source": [
    "s[8:0]"
   ]
  },
  {
   "cell_type": "code",
   "execution_count": 29,
   "id": "5df13899",
   "metadata": {},
   "outputs": [
    {
     "data": {
      "text/plain": [
       "''"
      ]
     },
     "execution_count": 29,
     "metadata": {},
     "output_type": "execute_result"
    }
   ],
   "source": [
    "s[-8:-1:-2]"
   ]
  },
  {
   "cell_type": "code",
   "execution_count": 30,
   "id": "0eef09ba",
   "metadata": {},
   "outputs": [
    {
     "data": {
      "text/plain": [
       "'wskilll'"
      ]
     },
     "execution_count": 30,
     "metadata": {},
     "output_type": "execute_result"
    }
   ],
   "source": [
    "s[1:8]"
   ]
  },
  {
   "cell_type": "code",
   "execution_count": 31,
   "id": "73e753fb",
   "metadata": {},
   "outputs": [],
   "source": [
    "s1=\"thi is my string class\""
   ]
  },
  {
   "cell_type": "code",
   "execution_count": 32,
   "id": "af4faa51",
   "metadata": {},
   "outputs": [
    {
     "data": {
      "text/plain": [
       "22"
      ]
     },
     "execution_count": 32,
     "metadata": {},
     "output_type": "execute_result"
    }
   ],
   "source": [
    "len(s1)"
   ]
  },
  {
   "cell_type": "code",
   "execution_count": 34,
   "id": "319a7775",
   "metadata": {},
   "outputs": [
    {
     "data": {
      "text/plain": [
       "5"
      ]
     },
     "execution_count": 34,
     "metadata": {},
     "output_type": "execute_result"
    }
   ],
   "source": [
    "s1.find('s')"
   ]
  },
  {
   "cell_type": "code",
   "execution_count": 36,
   "id": "59752f15",
   "metadata": {},
   "outputs": [
    {
     "data": {
      "text/plain": [
       "4"
      ]
     },
     "execution_count": 36,
     "metadata": {},
     "output_type": "execute_result"
    }
   ],
   "source": [
    "s1.count('s')"
   ]
  },
  {
   "cell_type": "code",
   "execution_count": 37,
   "id": "c6aa2cd9",
   "metadata": {},
   "outputs": [
    {
     "data": {
      "text/plain": [
       "'THI IS MY STRING CLASS'"
      ]
     },
     "execution_count": 37,
     "metadata": {},
     "output_type": "execute_result"
    }
   ],
   "source": [
    "s1.upper()"
   ]
  },
  {
   "cell_type": "code",
   "execution_count": 38,
   "id": "d8b3ea6a",
   "metadata": {},
   "outputs": [
    {
     "data": {
      "text/plain": [
       "'thi is my string class'"
      ]
     },
     "execution_count": 38,
     "metadata": {},
     "output_type": "execute_result"
    }
   ],
   "source": [
    "s1.lower()"
   ]
  },
  {
   "cell_type": "code",
   "execution_count": 40,
   "id": "c2321702",
   "metadata": {},
   "outputs": [
    {
     "data": {
      "text/plain": [
       "'Thi Is My String Class'"
      ]
     },
     "execution_count": 40,
     "metadata": {},
     "output_type": "execute_result"
    }
   ],
   "source": [
    "s1.title()"
   ]
  },
  {
   "cell_type": "code",
   "execution_count": 42,
   "id": "b5ac2b5c",
   "metadata": {},
   "outputs": [
    {
     "data": {
      "text/plain": [
       "'thi is my string class2'"
      ]
     },
     "execution_count": 42,
     "metadata": {},
     "output_type": "execute_result"
    }
   ],
   "source": [
    "s1+ \"2\""
   ]
  },
  {
   "cell_type": "code",
   "execution_count": 43,
   "id": "e383a029",
   "metadata": {},
   "outputs": [
    {
     "data": {
      "text/plain": [
       "'thi is my string classthi is my string classthi is my string classthi is my string classthi is my string class'"
      ]
     },
     "execution_count": 43,
     "metadata": {},
     "output_type": "execute_result"
    }
   ],
   "source": [
    "s1*5"
   ]
  },
  {
   "cell_type": "code",
   "execution_count": 45,
   "id": "6f224f6c",
   "metadata": {},
   "outputs": [
    {
     "data": {
      "text/plain": [
       "\"don't do copy and paste in my class\""
      ]
     },
     "execution_count": 45,
     "metadata": {},
     "output_type": "execute_result"
    }
   ],
   "source": [
    "\"don't do copy and paste in my class\""
   ]
  },
  {
   "cell_type": "code",
   "execution_count": 46,
   "id": "7b6cc60a",
   "metadata": {},
   "outputs": [
    {
     "data": {
      "text/plain": [
       "\" HOW WAS THE TASTE OF TODAY'S DINNER\""
      ]
     },
     "execution_count": 46,
     "metadata": {},
     "output_type": "execute_result"
    }
   ],
   "source": [
    "#HOW WAS THE TASTE OF TODAY'S DINNER \n",
    "\"\"\" HOW WAS THE TASTE OF TODAY'S DINNER\"\"\""
   ]
  },
  {
   "cell_type": "code",
   "execution_count": 53,
   "id": "7d1a67f5",
   "metadata": {},
   "outputs": [],
   "source": [
    "l=[1,234,\"NITYA\",True,5+8J,34.56]"
   ]
  },
  {
   "cell_type": "code",
   "execution_count": 55,
   "id": "bb58b77f",
   "metadata": {},
   "outputs": [
    {
     "data": {
      "text/plain": [
       "list"
      ]
     },
     "execution_count": 55,
     "metadata": {},
     "output_type": "execute_result"
    }
   ],
   "source": [
    "type(l)\n"
   ]
  },
  {
   "cell_type": "code",
   "execution_count": 50,
   "id": "968bd6a0",
   "metadata": {},
   "outputs": [
    {
     "data": {
      "text/plain": [
       "1"
      ]
     },
     "execution_count": 50,
     "metadata": {},
     "output_type": "execute_result"
    }
   ],
   "source": [
    "L[0]"
   ]
  },
  {
   "cell_type": "code",
   "execution_count": 51,
   "id": "a5448cf7",
   "metadata": {},
   "outputs": [
    {
     "data": {
      "text/plain": [
       "'NITYA'"
      ]
     },
     "execution_count": 51,
     "metadata": {},
     "output_type": "execute_result"
    }
   ],
   "source": [
    "L[2]"
   ]
  },
  {
   "cell_type": "code",
   "execution_count": 52,
   "id": "596d362a",
   "metadata": {},
   "outputs": [
    {
     "data": {
      "text/plain": [
       "str"
      ]
     },
     "execution_count": 52,
     "metadata": {},
     "output_type": "execute_result"
    }
   ],
   "source": [
    "type(L[2])"
   ]
  },
  {
   "cell_type": "code",
   "execution_count": 56,
   "id": "dbdc389e",
   "metadata": {},
   "outputs": [],
   "source": [
    "s=\"hello everyone\""
   ]
  },
  {
   "cell_type": "code",
   "execution_count": 57,
   "id": "d0d3fcae",
   "metadata": {},
   "outputs": [
    {
     "data": {
      "text/plain": [
       "[1, 234, 'NITYA', True, (5+8j), 34.56]"
      ]
     },
     "execution_count": 57,
     "metadata": {},
     "output_type": "execute_result"
    }
   ],
   "source": [
    "l"
   ]
  },
  {
   "cell_type": "code",
   "execution_count": 58,
   "id": "6dd396e8",
   "metadata": {},
   "outputs": [
    {
     "ename": "TypeError",
     "evalue": "can only concatenate list (not \"str\") to list",
     "output_type": "error",
     "traceback": [
      "\u001b[1;31m---------------------------------------------------------------------------\u001b[0m",
      "\u001b[1;31mTypeError\u001b[0m                                 Traceback (most recent call last)",
      "Input \u001b[1;32mIn [58]\u001b[0m, in \u001b[0;36m<cell line: 1>\u001b[1;34m()\u001b[0m\n\u001b[1;32m----> 1\u001b[0m \u001b[43ml\u001b[49m\u001b[38;5;241;43m+\u001b[39;49m\u001b[43ms\u001b[49m\n",
      "\u001b[1;31mTypeError\u001b[0m: can only concatenate list (not \"str\") to list"
     ]
    }
   ],
   "source": [
    "l+s"
   ]
  },
  {
   "cell_type": "code",
   "execution_count": 59,
   "id": "ec55aaa2",
   "metadata": {},
   "outputs": [
    {
     "ename": "IndexError",
     "evalue": "list assignment index out of range",
     "output_type": "error",
     "traceback": [
      "\u001b[1;31m---------------------------------------------------------------------------\u001b[0m",
      "\u001b[1;31mIndexError\u001b[0m                                Traceback (most recent call last)",
      "Input \u001b[1;32mIn [59]\u001b[0m, in \u001b[0;36m<cell line: 1>\u001b[1;34m()\u001b[0m\n\u001b[1;32m----> 1\u001b[0m l[\u001b[38;5;241m7\u001b[39m]\u001b[38;5;241m=\u001b[39ms \n\u001b[0;32m      2\u001b[0m l\n",
      "\u001b[1;31mIndexError\u001b[0m: list assignment index out of range"
     ]
    }
   ],
   "source": [
    "l[7]=s \n"
   ]
  },
  {
   "cell_type": "code",
   "execution_count": 60,
   "id": "d8b6dc63",
   "metadata": {},
   "outputs": [
    {
     "data": {
      "text/plain": [
       "[1,\n",
       " 234,\n",
       " 'NITYA',\n",
       " True,\n",
       " (5+8j),\n",
       " 34.56,\n",
       " 'h',\n",
       " 'e',\n",
       " 'l',\n",
       " 'l',\n",
       " 'o',\n",
       " ' ',\n",
       " 'e',\n",
       " 'v',\n",
       " 'e',\n",
       " 'r',\n",
       " 'y',\n",
       " 'o',\n",
       " 'n',\n",
       " 'e']"
      ]
     },
     "execution_count": 60,
     "metadata": {},
     "output_type": "execute_result"
    }
   ],
   "source": [
    "l+list(s)"
   ]
  },
  {
   "cell_type": "code",
   "execution_count": 61,
   "id": "5be8aa06",
   "metadata": {},
   "outputs": [
    {
     "data": {
      "text/plain": [
       "[1, 234, 'NITYA', True, (5+8j), 34.56]"
      ]
     },
     "execution_count": 61,
     "metadata": {},
     "output_type": "execute_result"
    }
   ],
   "source": [
    "l\n"
   ]
  },
  {
   "cell_type": "code",
   "execution_count": 62,
   "id": "d69c7aa0",
   "metadata": {},
   "outputs": [
    {
     "data": {
      "text/plain": [
       "'NI'"
      ]
     },
     "execution_count": 62,
     "metadata": {},
     "output_type": "execute_result"
    }
   ],
   "source": [
    "l[2][0:2]"
   ]
  },
  {
   "cell_type": "code",
   "execution_count": 63,
   "id": "dc6fdae2",
   "metadata": {},
   "outputs": [
    {
     "data": {
      "text/plain": [
       "[1, 234, 'NITYA', True, (5+8j), 34.56, 2, 3, 4]"
      ]
     },
     "execution_count": 63,
     "metadata": {},
     "output_type": "execute_result"
    }
   ],
   "source": [
    "l1=[2,3,4] \n",
    "l+l1"
   ]
  },
  {
   "cell_type": "code",
   "execution_count": 64,
   "id": "2550cd95",
   "metadata": {},
   "outputs": [
    {
     "data": {
      "text/plain": [
       "[2, 3, 4, 2, 3, 4, 2, 3, 4]"
      ]
     },
     "execution_count": 64,
     "metadata": {},
     "output_type": "execute_result"
    }
   ],
   "source": [
    "l1*3"
   ]
  },
  {
   "cell_type": "code",
   "execution_count": 65,
   "id": "1149eb25",
   "metadata": {},
   "outputs": [
    {
     "data": {
      "text/plain": [
       "6"
      ]
     },
     "execution_count": 65,
     "metadata": {},
     "output_type": "execute_result"
    }
   ],
   "source": [
    "len(l)"
   ]
  },
  {
   "cell_type": "code",
   "execution_count": 67,
   "id": "3f0a0024",
   "metadata": {},
   "outputs": [],
   "source": [
    "l.append(5)"
   ]
  },
  {
   "cell_type": "code",
   "execution_count": 68,
   "id": "f1acf7fa",
   "metadata": {},
   "outputs": [
    {
     "data": {
      "text/plain": [
       "[1, 234, 'NITYA', True, (5+8j), 34.56, 5]"
      ]
     },
     "execution_count": 68,
     "metadata": {},
     "output_type": "execute_result"
    }
   ],
   "source": [
    "l"
   ]
  },
  {
   "cell_type": "code",
   "execution_count": 69,
   "id": "e6846285",
   "metadata": {},
   "outputs": [],
   "source": [
    "l.append(7) \n",
    "l.append(l1)"
   ]
  },
  {
   "cell_type": "code",
   "execution_count": 70,
   "id": "22731367",
   "metadata": {},
   "outputs": [
    {
     "data": {
      "text/plain": [
       "[1, 234, 'NITYA', True, (5+8j), 34.56, 5, 7, [2, 3, 4]]"
      ]
     },
     "execution_count": 70,
     "metadata": {},
     "output_type": "execute_result"
    }
   ],
   "source": [
    "l"
   ]
  },
  {
   "cell_type": "code",
   "execution_count": 71,
   "id": "324f2c52",
   "metadata": {},
   "outputs": [
    {
     "data": {
      "text/plain": [
       "4"
      ]
     },
     "execution_count": 71,
     "metadata": {},
     "output_type": "execute_result"
    }
   ],
   "source": [
    "l[8][2]"
   ]
  },
  {
   "cell_type": "code",
   "execution_count": 72,
   "id": "11494d74",
   "metadata": {},
   "outputs": [],
   "source": [
    "l.extend(l1)"
   ]
  },
  {
   "cell_type": "code",
   "execution_count": 73,
   "id": "1cbb27cc",
   "metadata": {},
   "outputs": [
    {
     "data": {
      "text/plain": [
       "[1, 234, 'NITYA', True, (5+8j), 34.56, 5, 7, [2, 3, 4], 2, 3, 4]"
      ]
     },
     "execution_count": 73,
     "metadata": {},
     "output_type": "execute_result"
    }
   ],
   "source": [
    "l"
   ]
  },
  {
   "cell_type": "code",
   "execution_count": 74,
   "id": "27c973b8",
   "metadata": {},
   "outputs": [
    {
     "ename": "TypeError",
     "evalue": "'int' object is not iterable",
     "output_type": "error",
     "traceback": [
      "\u001b[1;31m---------------------------------------------------------------------------\u001b[0m",
      "\u001b[1;31mTypeError\u001b[0m                                 Traceback (most recent call last)",
      "Input \u001b[1;32mIn [74]\u001b[0m, in \u001b[0;36m<cell line: 1>\u001b[1;34m()\u001b[0m\n\u001b[1;32m----> 1\u001b[0m \u001b[43ml\u001b[49m\u001b[38;5;241;43m.\u001b[39;49m\u001b[43mextend\u001b[49m\u001b[43m(\u001b[49m\u001b[38;5;241;43m4\u001b[39;49m\u001b[43m)\u001b[49m\n\u001b[0;32m      2\u001b[0m l\n",
      "\u001b[1;31mTypeError\u001b[0m: 'int' object is not iterable"
     ]
    }
   ],
   "source": [
    "l.extend(4)\n",
    "l"
   ]
  },
  {
   "cell_type": "code",
   "execution_count": 75,
   "id": "e73983a9",
   "metadata": {},
   "outputs": [],
   "source": [
    "l.insert(1,\"nitya\")"
   ]
  },
  {
   "cell_type": "code",
   "execution_count": null,
   "id": "97e75a84",
   "metadata": {},
   "outputs": [],
   "source": []
  },
  {
   "cell_type": "code",
   "execution_count": 76,
   "id": "3571392b",
   "metadata": {},
   "outputs": [
    {
     "data": {
      "text/plain": [
       "[1, 'nitya', 234, 'NITYA', True, (5+8j), 34.56, 5, 7, [2, 3, 4], 2, 3, 4]"
      ]
     },
     "execution_count": 76,
     "metadata": {},
     "output_type": "execute_result"
    }
   ],
   "source": [
    "l"
   ]
  },
  {
   "cell_type": "code",
   "execution_count": 77,
   "id": "c4bb2ac1",
   "metadata": {},
   "outputs": [
    {
     "data": {
      "text/plain": [
       "234"
      ]
     },
     "execution_count": 77,
     "metadata": {},
     "output_type": "execute_result"
    }
   ],
   "source": [
    "l.pop(2)"
   ]
  },
  {
   "cell_type": "code",
   "execution_count": 79,
   "id": "bb605c11",
   "metadata": {},
   "outputs": [
    {
     "ename": "AttributeError",
     "evalue": "'str' object has no attribute 'remove'",
     "output_type": "error",
     "traceback": [
      "\u001b[1;31m---------------------------------------------------------------------------\u001b[0m",
      "\u001b[1;31mAttributeError\u001b[0m                            Traceback (most recent call last)",
      "Input \u001b[1;32mIn [79]\u001b[0m, in \u001b[0;36m<cell line: 1>\u001b[1;34m()\u001b[0m\n\u001b[1;32m----> 1\u001b[0m \u001b[43ml\u001b[49m\u001b[43m[\u001b[49m\u001b[38;5;241;43m1\u001b[39;49m\u001b[43m]\u001b[49m\u001b[38;5;241;43m.\u001b[39;49m\u001b[43mremove\u001b[49m(a)\n",
      "\u001b[1;31mAttributeError\u001b[0m: 'str' object has no attribute 'remove'"
     ]
    }
   ],
   "source": [
    "l[1].remove(a)"
   ]
  },
  {
   "cell_type": "code",
   "execution_count": 86,
   "id": "576efc3e",
   "metadata": {},
   "outputs": [],
   "source": [
    "s=\"nityanandbhushan\" "
   ]
  },
  {
   "cell_type": "code",
   "execution_count": 84,
   "id": "7d352ff2",
   "metadata": {},
   "outputs": [
    {
     "data": {
      "text/plain": [
       "'nityznzndbhushzn'"
      ]
     },
     "execution_count": 84,
     "metadata": {},
     "output_type": "execute_result"
    }
   ],
   "source": [
    "s"
   ]
  },
  {
   "cell_type": "code",
   "execution_count": 87,
   "id": "db849306",
   "metadata": {},
   "outputs": [
    {
     "data": {
      "text/plain": [
       "'nityqnqndbhushqn'"
      ]
     },
     "execution_count": 87,
     "metadata": {},
     "output_type": "execute_result"
    }
   ],
   "source": [
    "s.replace(\"a\",\"q\")"
   ]
  },
  {
   "cell_type": "code",
   "execution_count": 88,
   "id": "d3b0f0b4",
   "metadata": {},
   "outputs": [
    {
     "data": {
      "text/plain": [
       "'nityanandbhushan'"
      ]
     },
     "execution_count": 88,
     "metadata": {},
     "output_type": "execute_result"
    }
   ],
   "source": [
    "s"
   ]
  },
  {
   "cell_type": "code",
   "execution_count": 89,
   "id": "c48dd557",
   "metadata": {},
   "outputs": [
    {
     "data": {
      "text/plain": [
       "(2, 3.234, True, 'Nitya', (5+8j))"
      ]
     },
     "execution_count": 89,
     "metadata": {},
     "output_type": "execute_result"
    }
   ],
   "source": [
    "(2,3.234,True,\"Nitya\",5+8J)"
   ]
  },
  {
   "cell_type": "code",
   "execution_count": 91,
   "id": "14317caf",
   "metadata": {},
   "outputs": [],
   "source": [
    "l9=[3,4,5,7,32]"
   ]
  },
  {
   "cell_type": "code",
   "execution_count": 93,
   "id": "763858e4",
   "metadata": {},
   "outputs": [],
   "source": [
    "l9[0]=\"nitya\""
   ]
  },
  {
   "cell_type": "code",
   "execution_count": 94,
   "id": "f84d7b64",
   "metadata": {},
   "outputs": [
    {
     "data": {
      "text/plain": [
       "['nitya', 4, 5, 7, 32]"
      ]
     },
     "execution_count": 94,
     "metadata": {},
     "output_type": "execute_result"
    }
   ],
   "source": [
    "l9"
   ]
  },
  {
   "cell_type": "code",
   "execution_count": 95,
   "id": "190c0c24",
   "metadata": {},
   "outputs": [
    {
     "ename": "TypeError",
     "evalue": "'tuple' object does not support item assignment",
     "output_type": "error",
     "traceback": [
      "\u001b[1;31m---------------------------------------------------------------------------\u001b[0m",
      "\u001b[1;31mTypeError\u001b[0m                                 Traceback (most recent call last)",
      "Input \u001b[1;32mIn [95]\u001b[0m, in \u001b[0;36m<cell line: 2>\u001b[1;34m()\u001b[0m\n\u001b[0;32m      1\u001b[0m t\u001b[38;5;241m=\u001b[39m(\u001b[38;5;241m2\u001b[39m, \u001b[38;5;241m3.234\u001b[39m, \u001b[38;5;28;01mTrue\u001b[39;00m, \u001b[38;5;124m'\u001b[39m\u001b[38;5;124mNitya\u001b[39m\u001b[38;5;124m'\u001b[39m, (\u001b[38;5;241m5\u001b[39m\u001b[38;5;241m+\u001b[39m\u001b[38;5;241m8\u001b[39mj)) \n\u001b[1;32m----> 2\u001b[0m t[\u001b[38;5;241m0\u001b[39m]\u001b[38;5;241m=\u001b[39m\u001b[38;5;124m\"\u001b[39m\u001b[38;5;124mstring\u001b[39m\u001b[38;5;124m\"\u001b[39m\n",
      "\u001b[1;31mTypeError\u001b[0m: 'tuple' object does not support item assignment"
     ]
    }
   ],
   "source": [
    "t=(2, 3.234, True, 'Nitya', (5+8j)) \n",
    "t[0]=\"string\""
   ]
  },
  {
   "cell_type": "code",
   "execution_count": 96,
   "id": "d6ae62b2",
   "metadata": {},
   "outputs": [
    {
     "data": {
      "text/plain": [
       "{2, 3, 4, 5, 6, 7, 8, 44}"
      ]
     },
     "execution_count": 96,
     "metadata": {},
     "output_type": "execute_result"
    }
   ],
   "source": [
    "{2,3,4,4,5,6,7,8,7,6,5,44,3,3,4,5,5,} "
   ]
  },
  {
   "cell_type": "code",
   "execution_count": 97,
   "id": "4f7a1a0f",
   "metadata": {},
   "outputs": [
    {
     "data": {
      "text/plain": [
       "[1, 'nitya', 'NITYA', True, (5+8j), 34.56, 5, 7, [2, 3, 4], 2, 3, 4]"
      ]
     },
     "execution_count": 97,
     "metadata": {},
     "output_type": "execute_result"
    }
   ],
   "source": [
    "l"
   ]
  },
  {
   "cell_type": "code",
   "execution_count": 100,
   "id": "436e998f",
   "metadata": {},
   "outputs": [
    {
     "ename": "TypeError",
     "evalue": "unhashable type: 'list'",
     "output_type": "error",
     "traceback": [
      "\u001b[1;31m---------------------------------------------------------------------------\u001b[0m",
      "\u001b[1;31mTypeError\u001b[0m                                 Traceback (most recent call last)",
      "Input \u001b[1;32mIn [100]\u001b[0m, in \u001b[0;36m<cell line: 1>\u001b[1;34m()\u001b[0m\n\u001b[1;32m----> 1\u001b[0m l\u001b[38;5;241m=\u001b[39m\u001b[38;5;28mlist\u001b[39m(\u001b[38;5;28;43mset\u001b[39;49m\u001b[43m(\u001b[49m\u001b[43ml\u001b[49m\u001b[43m)\u001b[49m)\n",
      "\u001b[1;31mTypeError\u001b[0m: unhashable type: 'list'"
     ]
    }
   ],
   "source": [
    "l=list(set(l))"
   ]
  },
  {
   "cell_type": "code",
   "execution_count": 103,
   "id": "dd4e3126",
   "metadata": {},
   "outputs": [],
   "source": [
    "d4={\"name\":\"nityanandbhushan\",\"class\":\"Btech\",\"email\":\"nityanandbhushan13gmail.com\",\"mob\":\"765100\"}"
   ]
  },
  {
   "cell_type": "code",
   "execution_count": 104,
   "id": "887a2744",
   "metadata": {},
   "outputs": [
    {
     "data": {
      "text/plain": [
       "'nityanandbhushan'"
      ]
     },
     "execution_count": 104,
     "metadata": {},
     "output_type": "execute_result"
    }
   ],
   "source": [
    "d4[\"name\"]"
   ]
  },
  {
   "cell_type": "code",
   "execution_count": null,
   "id": "74b72f1a",
   "metadata": {},
   "outputs": [],
   "source": []
  }
 ],
 "metadata": {
  "kernelspec": {
   "display_name": "Python 3 (ipykernel)",
   "language": "python",
   "name": "python3"
  },
  "language_info": {
   "codemirror_mode": {
    "name": "ipython",
    "version": 3
   },
   "file_extension": ".py",
   "mimetype": "text/x-python",
   "name": "python",
   "nbconvert_exporter": "python",
   "pygments_lexer": "ipython3",
   "version": "3.9.12"
  }
 },
 "nbformat": 4,
 "nbformat_minor": 5
}
